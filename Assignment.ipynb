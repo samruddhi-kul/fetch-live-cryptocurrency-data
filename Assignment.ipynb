{
 "cells": [
  {
   "cell_type": "markdown",
   "id": "db603a72",
   "metadata": {},
   "source": [
    "## Assignment\n",
    "by samruddhi kulkarni"
   ]
  },
  {
   "cell_type": "markdown",
   "id": "c2da68ef",
   "metadata": {},
   "source": [
    "## Step 1: Fetch Live Data"
   ]
  },
  {
   "cell_type": "code",
   "execution_count": 1,
   "id": "380a39b4",
   "metadata": {},
   "outputs": [
    {
     "name": "stdout",
     "output_type": "stream",
     "text": [
      "            id symbol      name  \\\n",
      "0      bitcoin    btc   Bitcoin   \n",
      "1     ethereum    eth  Ethereum   \n",
      "2       tether   usdt    Tether   \n",
      "3       solana    sol    Solana   \n",
      "4  binancecoin    bnb       BNB   \n",
      "\n",
      "                                               image  current_price  \\\n",
      "0  https://coin-images.coingecko.com/coins/images...      94307.000   \n",
      "1  https://coin-images.coingecko.com/coins/images...       3091.710   \n",
      "2  https://coin-images.coingecko.com/coins/images...          1.002   \n",
      "3  https://coin-images.coingecko.com/coins/images...        234.940   \n",
      "4  https://coin-images.coingecko.com/coins/images...        611.330   \n",
      "\n",
      "      market_cap  market_cap_rank  fully_diluted_valuation  total_volume  \\\n",
      "0  1867526025096                1             1.982209e+12   90785433174   \n",
      "1   372810465617                2             3.728105e+11   31592541212   \n",
      "2   128990407264                3             1.289904e+11  119971213375   \n",
      "3   111555164549                4             1.383605e+11    8996546912   \n",
      "4    89164093669                5             8.916409e+10    1570545972   \n",
      "\n",
      "    high_24h  ...  total_supply   max_supply       ath  ath_change_percentage  \\\n",
      "0  94891.000  ...  2.100000e+07   21000000.0  94891.00               -0.70525   \n",
      "1   3150.170  ...  1.204263e+08          NaN   4878.26              -36.52225   \n",
      "2      1.006  ...  1.287671e+11          NaN      1.32              -24.19159   \n",
      "3    244.430  ...  5.886744e+08          NaN    259.96               -9.46608   \n",
      "4    620.940  ...  1.458876e+08  200000000.0    717.48              -14.79272   \n",
      "\n",
      "                   ath_date        atl  atl_change_percentage  \\\n",
      "0  2024-11-20T15:41:19.520Z  67.810000           1.388520e+05   \n",
      "1  2021-11-10T14:24:19.604Z   0.432979           7.150873e+05   \n",
      "2  2018-07-24T00:00:00.000Z   0.572521           7.519313e+01   \n",
      "3  2021-11-06T21:54:35.825Z   0.500801           4.689496e+04   \n",
      "4  2024-06-06T14:10:59.816Z   0.039818           1.535251e+06   \n",
      "\n",
      "                   atl_date  \\\n",
      "0  2013-07-06T00:00:00.000Z   \n",
      "1  2015-10-20T00:00:00.000Z   \n",
      "2  2015-03-02T00:00:00.000Z   \n",
      "3  2020-05-11T19:35:23.449Z   \n",
      "4  2017-10-19T00:00:00.000Z   \n",
      "\n",
      "                                                 roi              last_updated  \n",
      "0                                               None  2024-11-20T17:11:15.526Z  \n",
      "1  {'times': 42.84846290023109, 'currency': 'btc'...  2024-11-20T17:11:18.802Z  \n",
      "2                                               None  2024-11-20T17:11:14.203Z  \n",
      "3                                               None  2024-11-20T17:11:12.095Z  \n",
      "4                                               None  2024-11-20T17:11:15.722Z  \n",
      "\n",
      "[5 rows x 26 columns]\n"
     ]
    }
   ],
   "source": [
    "import requests\n",
    "import pandas as pd\n",
    "from time import sleep\n",
    "\n",
    "def fetch_crypto_data():\n",
    "    url = \"https://api.coingecko.com/api/v3/coins/markets\"\n",
    "    params = {\n",
    "        \"vs_currency\": \"usd\",\n",
    "        \"order\": \"market_cap_desc\",\n",
    "        \"per_page\": 50,\n",
    "        \"page\": 1,\n",
    "        \"sparkline\": False\n",
    "    }\n",
    "    response = requests.get(url, params=params)\n",
    "    if response.status_code == 200:\n",
    "        return response.json()\n",
    "    else:\n",
    "        print(\"Error fetching data:\", response.status_code)\n",
    "        return []\n",
    "\n",
    "data = fetch_crypto_data()\n",
    "df = pd.DataFrame(data)\n",
    "print(df.head())\n"
   ]
  },
  {
   "cell_type": "markdown",
   "id": "98715e16",
   "metadata": {},
   "source": [
    "## Data Analysis"
   ]
  },
  {
   "cell_type": "markdown",
   "id": "2c8c699a",
   "metadata": {},
   "source": [
    "## Identify Top 5 Cryptocurrencies by Market Cap:"
   ]
  },
  {
   "cell_type": "code",
   "execution_count": 2,
   "id": "63ca974e",
   "metadata": {},
   "outputs": [
    {
     "name": "stdout",
     "output_type": "stream",
     "text": [
      "Top 5 Cryptocurrencies by Market Cap:\n",
      "            id     market_cap\n",
      "0      bitcoin  1867526025096\n",
      "1     ethereum   372810465617\n",
      "2       tether   128990407264\n",
      "3       solana   111555164549\n",
      "4  binancecoin    89164093669\n"
     ]
    }
   ],
   "source": [
    "top_5 = df.nlargest(5, 'market_cap')[['id', 'market_cap']]\n",
    "print(\"Top 5 Cryptocurrencies by Market Cap:\")\n",
    "print(top_5)\n"
   ]
  },
  {
   "cell_type": "markdown",
   "id": "8d18a989",
   "metadata": {},
   "source": [
    "### Calculate Average Price of Top 50 Cryptocurrencies:"
   ]
  },
  {
   "cell_type": "code",
   "execution_count": 3,
   "id": "259de236",
   "metadata": {},
   "outputs": [
    {
     "name": "stdout",
     "output_type": "stream",
     "text": [
      "Average Price of Top 50 Cryptocurrencies: $4139.40\n"
     ]
    }
   ],
   "source": [
    "avg_price = df['current_price'].mean()\n",
    "print(f\"Average Price of Top 50 Cryptocurrencies: ${avg_price:.2f}\")\n"
   ]
  },
  {
   "cell_type": "markdown",
   "id": "ad3c3809",
   "metadata": {},
   "source": [
    "### Find Highest and Lowest 24-hour Percentage Price Change:"
   ]
  },
  {
   "cell_type": "code",
   "execution_count": 4,
   "id": "bd5d3bc2",
   "metadata": {},
   "outputs": [
    {
     "name": "stdout",
     "output_type": "stream",
     "text": [
      "Highest 24-hour Change: cardano 12.96651\n",
      "Lowest 24-hour Change: mantra-dao -13.80687\n"
     ]
    }
   ],
   "source": [
    "highest_change = df.loc[df['price_change_percentage_24h'].idxmax()]\n",
    "lowest_change = df.loc[df['price_change_percentage_24h'].idxmin()]\n",
    "print(\"Highest 24-hour Change:\", highest_change['id'], highest_change['price_change_percentage_24h'])\n",
    "print(\"Lowest 24-hour Change:\", lowest_change['id'], lowest_change['price_change_percentage_24h'])\n"
   ]
  },
  {
   "cell_type": "markdown",
   "id": "0029b051",
   "metadata": {},
   "source": [
    "## Step 3: Live-Running Excel Sheet"
   ]
  },
  {
   "cell_type": "markdown",
   "id": "2ff727f1",
   "metadata": {},
   "source": [
    "### Use openpyxl or xlsxwriter for Data Writing:"
   ]
  },
  {
   "cell_type": "code",
   "execution_count": null,
   "id": "2d9cfd8d",
   "metadata": {},
   "outputs": [
    {
     "name": "stdout",
     "output_type": "stream",
     "text": [
      "Excel Updated!\n",
      "Excel Updated!\n",
      "Excel Updated!\n",
      "Excel Updated!\n",
      "Excel Updated!\n",
      "Excel Updated!\n"
     ]
    }
   ],
   "source": [
    "from openpyxl import Workbook\n",
    "import time\n",
    "\n",
    "def update_excel(data):\n",
    "    wb = Workbook()\n",
    "    ws = wb.active\n",
    "    # Write Headers\n",
    "    headers = ['Name', 'Symbol', 'Price (USD)', 'Market Cap', '24h Volume', '24h Change (%)']\n",
    "    ws.append(headers)\n",
    "    # Write Data\n",
    "    for entry in data:\n",
    "        ws.append([\n",
    "            entry['id'],\n",
    "            entry['symbol'],\n",
    "            entry['current_price'],\n",
    "            entry['market_cap'],\n",
    "            entry['total_volume'],\n",
    "            entry['price_change_percentage_24h']\n",
    "        ])\n",
    "    wb.save(\"Live_Crypto_Data.xlsx\")\n",
    "\n",
    "while True:\n",
    "    data = fetch_crypto_data()\n",
    "    update_excel(data)\n",
    "    print(\"Excel Updated!\")\n",
    "    time.sleep(300)  # Update every 5 minutes\n"
   ]
  },
  {
   "cell_type": "markdown",
   "id": "bc49e657",
   "metadata": {},
   "source": [
    "## thank you ...."
   ]
  }
 ],
 "metadata": {
  "kernelspec": {
   "display_name": "Python 3 (ipykernel)",
   "language": "python",
   "name": "python3"
  },
  "language_info": {
   "codemirror_mode": {
    "name": "ipython",
    "version": 3
   },
   "file_extension": ".py",
   "mimetype": "text/x-python",
   "name": "python",
   "nbconvert_exporter": "python",
   "pygments_lexer": "ipython3",
   "version": "3.9.13"
  }
 },
 "nbformat": 4,
 "nbformat_minor": 5
}
